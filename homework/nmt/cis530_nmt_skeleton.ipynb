{
  "nbformat": 4,
  "nbformat_minor": 0,
  "metadata": {
    "colab": {
      "name": "cis530_nmt_skeleton_onmt2.ipynb",
      "provenance": [],
      "collapsed_sections": []
    },
    "kernelspec": {
      "name": "python3",
      "display_name": "Python 3"
    },
    "accelerator": "GPU"
  },
  "cells": [
    {
      "cell_type": "code",
      "metadata": {
        "id": "0QG0aHJSl2fF"
      },
      "source": [
        "# Mount Google Drive\n",
        "from google.colab import drive\n",
        "drive.mount('/content/Drive', force_remount=True)\n",
        "# When you run this block, you will need to click open a link to get some \n",
        "import os\n",
        "#TODO\n",
        "os.chdir('/content/Drive/My Drive/[your directory]')"
      ],
      "execution_count": null,
      "outputs": []
    },
    {
      "cell_type": "code",
      "metadata": {
        "id": "vonVvEcTmJty"
      },
      "source": [
        "# Download data (https://nlp.stanford.edu/projects/jesc/index.html)\n",
        "#TODO\n",
        "!wget [a url]\n",
        "!tar -xzf [a tar.gz file]"
      ],
      "execution_count": null,
      "outputs": []
    },
    {
      "cell_type": "code",
      "metadata": {
        "id": "9ZFJl9Simjq9"
      },
      "source": [
        "# Preprocess data to OpenNMT format\n",
        "for fname in ['train','dev','test']:\n",
        "  with open('split/' + fname, encoding='utf-8') as fr, open('split/en-' + fname + '.txt', 'w', encoding='utf-8') as fwe, open('split/ja-' + fname + '.txt', 'w', encoding='utf-8') as fwj:\n",
        "    pass\n",
        "    #TODO: create 6 files, English|Japanese data for train|dev|test, one sentence per line."
      ],
      "execution_count": null,
      "outputs": []
    },
    {
      "cell_type": "code",
      "metadata": {
        "id": "t0jd5AH2nOJ2"
      },
      "source": [
        "# Install BPE (https://github.com/rsennrich/subword-nmt)\n",
        "#TODO\n",
        "!pip install [libary name]"
      ],
      "execution_count": null,
      "outputs": []
    },
    {
      "cell_type": "code",
      "metadata": {
        "id": "dAp16C4dowef"
      },
      "source": [
        "# Apply BPE, following instructions from the Github repo\n",
        "# this takes around 15 minutes\n",
        "\n",
        "#TODO\n",
        "#codes_file is where the BPE information is stored. Name it as you like. \n",
        "\n",
        "# Learn and apply BPE for English data\n",
        "!subword-nmt learn-bpe -s 10000 < {train_file} > {codes_file} # learn from train\n",
        "!subword-nmt apply-bpe -c {codes_file} < {train_file} > {train_out_file} # apply to train\n",
        "!subword-nmt apply-bpe -c {codes_file} < {dev_file} > {dev_out_file} # apply to dev\n",
        "!subword-nmt apply-bpe -c {codes_file} < {test_file} > {test_out_file} # apply to test\n",
        "\n",
        "# Learn and apply BPE for Japanese data\n",
        "!subword-nmt learn-bpe -s 10000 < {train_file} > {codes_file} # learn from train\n",
        "!subword-nmt apply-bpe -c {codes_file} < {train_file} > {train_out_file} # apply to train\n",
        "!subword-nmt apply-bpe -c {codes_file} < {dev_file} > {dev_out_file} # apply to dev\n",
        "!subword-nmt apply-bpe -c {codes_file} < {test_file} > {test_out_file} # apply to test"
      ],
      "execution_count": null,
      "outputs": []
    },
    {
      "cell_type": "code",
      "metadata": {
        "id": "VYOb5XhacEyo"
      },
      "source": [
        "# Install OpenNMT (https://github.com/OpenNMT/OpenNMT-py)\n",
        "#TODO\n",
        "!pip install [libary name]"
      ],
      "execution_count": null,
      "outputs": []
    },
    {
      "cell_type": "code",
      "metadata": {
        "id": "UAmLf8Gb4lO8"
      },
      "source": [
        "# Run OpenNMT, following instructions from the Github repo\n",
        "# TODO  \n",
        "# this takes 1-2 hours. \n",
        "\n",
        "# nmt.yaml stores all arguments passed to onmt files\n",
        "\n",
        "!onmt_build_vocab -config [nmt.yaml] -n_sample -1\n",
        "!onmt_train -config [ntm.yaml]\n",
        "!onmt_translate -model [.pt file] -src [ source test ] -output [ output file ] -replace_unk -verbose\n",
        "\n",
        "#reverse BPE\n",
        "!sed -r 's/(@@ )|(@@ ?$)//g' [output file] > [output file without BPE]"
      ],
      "execution_count": null,
      "outputs": []
    },
    {
      "cell_type": "code",
      "metadata": {
        "id": "3yn8f-FQG05m"
      },
      "source": [
        "# Evaluate translations using BLEU\n",
        "!wget https://raw.githubusercontent.com/moses-smt/mosesdecoder/master/scripts/generic/multi-bleu.perl\n",
        "#TODO\n",
        "!perl multi-bleu.perl [en-test.txt without BPE] < [your translation without BPE]"
      ],
      "execution_count": null,
      "outputs": []
    }
  ]
}