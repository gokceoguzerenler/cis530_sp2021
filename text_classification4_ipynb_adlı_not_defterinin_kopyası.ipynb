{
  "nbformat": 4,
  "nbformat_minor": 0,
  "metadata": {
    "colab": {
      "provenance": [],
      "history_visible": true,
      "authorship_tag": "ABX9TyPjv6NVCJGNSCMkjNw2JVQv",
      "include_colab_link": true
    },
    "kernelspec": {
      "name": "python3",
      "display_name": "Python 3"
    },
    "language_info": {
      "name": "python"
    }
  },
  "cells": [
    {
      "cell_type": "markdown",
      "metadata": {
        "id": "view-in-github",
        "colab_type": "text"
      },
      "source": [
        "<a href=\"https://colab.research.google.com/github/gokceoguzerenler/cis530_sp2021/blob/master/text_classification4_ipynb_adl%C4%B1_not_defterinin_kopyas%C4%B1.ipynb\" target=\"_parent\"><img src=\"https://colab.research.google.com/assets/colab-badge.svg\" alt=\"Open In Colab\"/></a>"
      ]
    },
    {
      "cell_type": "code",
      "source": [
        "def get_precision(y_pred, y_true):\n",
        "    # Calculate Precision\n",
        "    true_positives = sum([(1 if pred == 1 and true == 1 else 0) for pred, true in zip(y_pred, y_true)])\n",
        "    false_positives = sum([(1 if pred == 1 and true == 0 else 0) for pred, true in zip(y_pred, y_true)])\n",
        "\n",
        "    precision = true_positives / (true_positives + false_positives) if (true_positives + false_positives) != 0 else 0\n",
        "    return precision\n",
        "\n",
        "def get_recall(y_pred, y_true):\n",
        "    # Calculate Recall\n",
        "    true_positives = sum([(1 if pred == 1 and true == 1 else 0) for pred, true in zip(y_pred, y_true)])\n",
        "    false_negatives = sum([(1 if pred == 0 and true == 1 else 0) for pred, true in zip(y_pred, y_true)])\n",
        "\n",
        "    recall = true_positives / (true_positives + false_negatives) if (true_positives + false_negatives) != 0 else 0\n",
        "    return recall\n",
        "\n",
        "def get_fscore(y_pred, y_true):\n",
        "    # Calculate F1-score\n",
        "    precision = get_precision(y_pred, y_true)\n",
        "    recall = get_recall(y_pred, y_true)\n",
        "\n",
        "    fscore = (2 * precision * recall) / (precision + recall) if (precision + recall) != 0 else 0\n",
        "    return fscore\n",
        "\n",
        "def test_predictions(y_pred, y_true):\n",
        "    # Print precision, recall, and f-score\n",
        "    precision = get_precision(y_pred, y_true)\n",
        "    recall = get_recall(y_pred, y_true)\n",
        "    fscore = get_fscore(y_pred, y_true)\n",
        "\n",
        "    print(f'Precision: {precision:.4f}')\n",
        "    print(f'Recall: {recall:.4f}')\n",
        "    print(f'F1-score: {fscore:.4f}')\n",
        "\n",
        "# Example usage\n",
        "y_pred_example = [1, 0, 1, 1, 0]\n",
        "y_true_example = [1, 1, 1, 0, 0]\n",
        "\n",
        "test_predictions(y_pred_example, y_true_example)"
      ],
      "metadata": {
        "colab": {
          "base_uri": "https://localhost:8080/"
        },
        "id": "kBQ4lb8AlUPg",
        "outputId": "aa294032-6277-4d4d-8bdd-21ffc54e8fce"
      },
      "execution_count": null,
      "outputs": [
        {
          "output_type": "stream",
          "name": "stdout",
          "text": [
            "Precision: 0.6667\n",
            "Recall: 0.6667\n",
            "F1-score: 0.6667\n"
          ]
        }
      ]
    },
    {
      "cell_type": "code",
      "source": [
        "def load_file(data_file):\n",
        "    words = []\n",
        "    labels = []\n",
        "    with open(data_file, 'rt', encoding=\"utf8\") as f:\n",
        "        i = 0\n",
        "        for line in f:\n",
        "            if i > 0:\n",
        "                line_split = line[:-1].split(\"\\t\")\n",
        "                words.append(line_split[0].lower())\n",
        "                labels.append(int(line_split[1]))\n",
        "            i += 1\n",
        "    return words, labels\n",
        "\n",
        "def all_complex(data_file):\n",
        "    # Load the data\n",
        "    words, labels = load_file(data_file)\n",
        "\n",
        "    # Predict all words as complex\n",
        "    y_pred = [1] * len(labels)\n",
        "\n",
        "    # Evaluate the baseline\n",
        "    precision = get_precision(y_pred, labels)\n",
        "    recall = get_recall(y_pred, labels)\n",
        "    fscore = get_fscore(y_pred, labels)\n",
        "\n",
        "    print(f'Majority Class Baseline - {data_file}')\n",
        "    print(f'Precision: {precision:.4f}')\n",
        "    print(f'Recall: {recall:.4f}')\n",
        "    print(f'F1-score: {fscore:.4f}')\n",
        "\n",
        "    return precision, recall, fscore\n",
        "\n",
        "# Evaluate on training data\n",
        "all_complex_train = all_complex('train.txt')\n",
        "\n",
        "# Evaluate on development data\n",
        "all_complex_dev = all_complex('dev.txt')\n"
      ],
      "metadata": {
        "colab": {
          "base_uri": "https://localhost:8080/"
        },
        "id": "fpTiMeeAla5A",
        "outputId": "d4a4e9ba-392e-4fa6-c76f-fc3226289e34"
      },
      "execution_count": null,
      "outputs": [
        {
          "output_type": "stream",
          "name": "stdout",
          "text": [
            "Majority Class Baseline - train.txt\n",
            "Precision: 0.4328\n",
            "Recall: 1.0000\n",
            "F1-score: 0.6041\n",
            "Majority Class Baseline - dev.txt\n",
            "Precision: 0.4180\n",
            "Recall: 1.0000\n",
            "F1-score: 0.5896\n"
          ]
        }
      ]
    },
    {
      "cell_type": "code",
      "source": [
        "from collections import defaultdict\n",
        "import gzip\n",
        "import matplotlib.pyplot as plt\n",
        "\n",
        "def load_file(data_file):\n",
        "    words = []\n",
        "    labels = []\n",
        "    with open(data_file, 'rt', encoding=\"utf8\") as f:\n",
        "        i = 0\n",
        "        for line in f:\n",
        "            if i > 0:\n",
        "                line_split = line[:-1].split(\"\\t\")\n",
        "                words.append(line_split[0].lower())\n",
        "                labels.append(int(line_split[1]))\n",
        "            i += 1\n",
        "    return words, labels\n",
        "\n",
        "def load_ngram_counts(ngram_counts_file):\n",
        "   counts = defaultdict(int)\n",
        "   with gzip.open(ngram_counts_file, 'rt') as f:\n",
        "       for line in f:\n",
        "           token, count = line.strip().split('\\t')\n",
        "           if token[0].islower():\n",
        "               counts[token] = int(count)\n",
        "   return counts\n",
        "\n",
        "def word_length_threshold(training_file, development_file):\n",
        "    # Load the data\n",
        "    train_words, train_labels = load_file(training_file)\n",
        "    dev_words, dev_labels = load_file(development_file)\n",
        "\n",
        "    # Initialize variables to store the best threshold and corresponding scores\n",
        "    best_threshold = 0\n",
        "    best_fscore = 0\n",
        "\n",
        "    # Try different thresholds\n",
        "    for threshold in range(1, 20):\n",
        "        # Predict words based on word length\n",
        "        train_pred = [1 if len(word) >= threshold else 0 for word in train_words]\n",
        "        dev_pred = [1 if len(word) >= threshold else 0 for word in dev_words]\n",
        "\n",
        "        # Evaluate on development data\n",
        "        fscore = get_fscore(dev_pred, dev_labels)\n",
        "\n",
        "        # Check if this threshold gives a better F1-score\n",
        "        if fscore > best_fscore:\n",
        "            best_fscore = fscore\n",
        "            best_threshold = threshold\n",
        "\n",
        "    print(f'Word Length Baseline - {development_file}')\n",
        "    print(f'Best Threshold: {best_threshold}')\n",
        "    print(f'Best F1-score: {best_fscore:.4f}')\n",
        "\n",
        "    # Plot Precision-Recall curve\n",
        "    thresholds = range(1, 20)\n",
        "    precisions = [get_precision([1 if len(word) >= t else 0 for word in dev_words], dev_labels) for t in thresholds]\n",
        "    recalls = [get_recall([1 if len(word) >= t else 0 for word in dev_words], dev_labels) for t in thresholds]\n",
        "\n",
        "    plt.plot(recalls, precisions, marker='.')\n",
        "    plt.xlabel('Recall')\n",
        "    plt.ylabel('Precision')\n",
        "    plt.title('Precision-Recall Curve for Word Length Baseline')\n",
        "    plt.show()\n",
        "\n",
        "    return best_threshold, best_fscore\n",
        "\n",
        "if __name__ == \"__main__\":\n",
        "    training_file = \"train.txt\"\n",
        "    development_file = \"dev.txt\"\n",
        "\n",
        "    ngram_counts_file = \"ngram_counts.txt.gz\"\n",
        "    counts = load_ngram_counts(ngram_counts_file)\n",
        "\n",
        "\n",
        "# Evaluate on training and development data\n",
        "word_length_train = word_length_threshold('train.txt', 'dev.txt')\n"
      ],
      "metadata": {
        "colab": {
          "base_uri": "https://localhost:8080/",
          "height": 526
        },
        "id": "mmSTa2FymqSL",
        "outputId": "d1082b04-d296-4b0c-96d8-bca31077cdfa"
      },
      "execution_count": null,
      "outputs": [
        {
          "output_type": "stream",
          "name": "stdout",
          "text": [
            "Word Length Baseline - dev.txt\n",
            "Best Threshold: 7\n",
            "Best F1-score: 0.7126\n"
          ]
        },
        {
          "output_type": "display_data",
          "data": {
            "text/plain": [
              "<Figure size 640x480 with 1 Axes>"
            ],
            "image/png": "[encoded data removed]"
          },
          "metadata": {}
        }
      ]
    }
  ]
}